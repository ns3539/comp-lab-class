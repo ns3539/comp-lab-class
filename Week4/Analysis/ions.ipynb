{
 "cells": [
  {
   "cell_type": "markdown",
   "metadata": {},
   "source": [
    "https://docs.mdanalysis.org/2.0.0/documentation_pages/analysis/msd.html"
   ]
  },
  {
   "cell_type": "code",
   "execution_count": 1,
   "metadata": {},
   "outputs": [
    {
     "name": "stdout",
     "output_type": "stream",
     "text": [
      "/scratch/work/courses/CHEM-GA-2671-2022fa/ns3539/comp-lab-class/Week4/Setup/ions/gromacs/xtc_files\n"
     ]
    }
   ],
   "source": [
    "cd /scratch/work/courses/CHEM-GA-2671-2022fa/ns3539/comp-lab-class/Week4/Setup/ions/gromacs/xtc_files"
   ]
  },
  {
   "cell_type": "code",
   "execution_count": 3,
   "metadata": {},
   "outputs": [
    {
     "name": "stdout",
     "output_type": "stream",
     "text": [
      "Defaulting to user installation because normal site-packages is not writeable\n",
      "Collecting MDAnalysis\n",
      "  Downloading MDAnalysis-2.3.0-cp38-cp38-manylinux_2_17_x86_64.manylinux2014_x86_64.whl (6.6 MB)\n",
      "\u001b[K     |████████████████████████████████| 6.6 MB 17.0 MB/s eta 0:00:01    | 1.9 MB 17.0 MB/s eta 0:00:01\n",
      "\u001b[?25hCollecting networkx>=2.0\n",
      "  Downloading networkx-2.8.6-py3-none-any.whl (2.0 MB)\n",
      "\u001b[K     |████████████████████████████████| 2.0 MB 97.6 MB/s eta 0:00:01��                           | 266 kB 97.6 MB/s eta 0:00:01\n",
      "\u001b[?25hCollecting numpy>=1.20.0\n",
      "  Downloading numpy-1.23.3-cp38-cp38-manylinux_2_17_x86_64.manylinux2014_x86_64.whl (17.1 MB)\n",
      "\u001b[K     |████████████████████████████████| 17.1 MB 89.5 MB/s eta 0:00:01:01████████| 17.1 MB 89.5 MB/s eta 0:00:01\n",
      "\u001b[?25hCollecting gsd>=1.9.3\n",
      "  Downloading gsd-2.6.0-cp38-cp38-manylinux_2_17_x86_64.manylinux2014_x86_64.whl (406 kB)\n",
      "\u001b[K     |████████████████████████████████| 406 kB 94.2 MB/s eta 0:00:01\n",
      "\u001b[?25hRequirement already satisfied: scipy>=1.5.0 in /share/apps/python/3.8.6/intel/lib/python3.8/site-packages/scipy-1.5.2-py3.8-linux-x86_64.egg (from MDAnalysis) (1.5.2)\n",
      "Collecting fasteners\n",
      "  Downloading fasteners-0.18-py3-none-any.whl (18 kB)\n",
      "Requirement already satisfied: packaging in /share/apps/python/3.8.6/intel/lib/python3.8/site-packages (from MDAnalysis) (20.4)\n",
      "Collecting mmtf-python>=1.0.0\n",
      "  Downloading mmtf_python-1.1.3-py2.py3-none-any.whl (25 kB)\n",
      "Collecting tqdm>=4.43.0\n",
      "  Downloading tqdm-4.64.1-py2.py3-none-any.whl (78 kB)\n",
      "\u001b[K     |████████████████████████████████| 78 kB 14.7 MB/s eta 0:00:01\n",
      "\u001b[?25hCollecting threadpoolctl\n",
      "  Downloading threadpoolctl-3.1.0-py3-none-any.whl (14 kB)\n",
      "Collecting biopython>=1.71\n",
      "  Downloading biopython-1.79-cp38-cp38-manylinux_2_5_x86_64.manylinux1_x86_64.whl (2.3 MB)\n",
      "\u001b[K     |████████████████████████████████| 2.3 MB 93.7 MB/s eta 0:00:01\n",
      "\u001b[?25hCollecting GridDataFormats>=0.4.0\n",
      "  Downloading GridDataFormats-1.0.1-py3-none-any.whl (2.1 MB)\n",
      "\u001b[K     |████████████████████████████████| 2.1 MB 88 kB/s s eta 0:00:01\n",
      "\u001b[?25hCollecting joblib>=0.12\n",
      "  Downloading joblib-1.2.0-py3-none-any.whl (297 kB)\n",
      "\u001b[K     |████████████████████████████████| 297 kB 89.1 MB/s eta 0:00:01\n",
      "\u001b[?25hRequirement already satisfied: matplotlib>=1.5.1 in /share/apps/python/3.8.6/intel/lib/python3.8/site-packages (from MDAnalysis) (3.3.2)\n",
      "Requirement already satisfied: six in /share/apps/python/3.8.6/intel/lib/python3.8/site-packages (from packaging->MDAnalysis) (1.15.0)\n",
      "Requirement already satisfied: pyparsing>=2.0.2 in /share/apps/python/3.8.6/intel/lib/python3.8/site-packages (from packaging->MDAnalysis) (2.4.7)\n",
      "Collecting msgpack>=1.0.0\n",
      "  Downloading msgpack-1.0.4-cp38-cp38-manylinux_2_17_x86_64.manylinux2014_x86_64.whl (322 kB)\n",
      "\u001b[K     |████████████████████████████████| 322 kB 93.9 MB/s eta 0:00:01\n",
      "\u001b[?25hCollecting mrcfile\n",
      "  Downloading mrcfile-1.4.3-py2.py3-none-any.whl (43 kB)\n",
      "\u001b[K     |████████████████████████████████| 43 kB 4.6 MB/s  eta 0:00:01\n",
      "\u001b[?25hRequirement already satisfied: kiwisolver>=1.0.1 in /share/apps/python/3.8.6/intel/lib/python3.8/site-packages (from matplotlib>=1.5.1->MDAnalysis) (1.2.0)\n",
      "Requirement already satisfied: python-dateutil>=2.1 in /share/apps/python/3.8.6/intel/lib/python3.8/site-packages (from matplotlib>=1.5.1->MDAnalysis) (2.8.1)\n",
      "Requirement already satisfied: cycler>=0.10 in /share/apps/python/3.8.6/intel/lib/python3.8/site-packages (from matplotlib>=1.5.1->MDAnalysis) (0.10.0)\n",
      "Requirement already satisfied: pillow>=6.2.0 in /share/apps/python/3.8.6/intel/lib/python3.8/site-packages (from matplotlib>=1.5.1->MDAnalysis) (8.0.1)\n",
      "Requirement already satisfied: certifi>=2020.06.20 in /share/apps/python/3.8.6/intel/lib/python3.8/site-packages (from matplotlib>=1.5.1->MDAnalysis) (2020.6.20)\n",
      "Installing collected packages: networkx, numpy, gsd, fasteners, msgpack, mmtf-python, tqdm, threadpoolctl, biopython, mrcfile, GridDataFormats, joblib, MDAnalysis\n",
      "Successfully installed GridDataFormats-1.0.1 MDAnalysis-2.3.0 biopython-1.79 fasteners-0.18 gsd-2.6.0 joblib-1.2.0 mmtf-python-1.1.3 mrcfile-1.4.3 msgpack-1.0.4 networkx-2.8.6 numpy-1.23.3 threadpoolctl-3.1.0 tqdm-4.64.1\n",
      "\u001b[33mWARNING: You are using pip version 20.2.3; however, version 22.2.2 is available.\n",
      "You should consider upgrading via the '/share/apps/python/3.8.6/intel/bin/python -m pip install --upgrade pip' command.\u001b[0m\n",
      "Note: you may need to restart the kernel to use updated packages.\n"
     ]
    }
   ],
   "source": [
    "pip install MDAnalysis"
   ]
  },
  {
   "cell_type": "code",
   "execution_count": 3,
   "metadata": {},
   "outputs": [],
   "source": [
    "import numpy as np\n",
    "import matplotlib.pyplot as plt\n",
    "\n",
    "#import MDAnalysis as mda\n",
    "#import MDAnalysis.analysis.msd as msd\n",
    "import mdtraj as md"
   ]
  },
  {
   "cell_type": "code",
   "execution_count": null,
   "metadata": {},
   "outputs": [],
   "source": [
    "traj = md.load_xtc('md_final.xtc', top = 'step5_9.gro')"
   ]
  },
  {
   "cell_type": "code",
   "execution_count": 4,
   "metadata": {},
   "outputs": [
    {
     "ename": "NameError",
     "evalue": "name 'traj' is not defined",
     "output_type": "error",
     "traceback": [
      "\u001b[0;31m---------------------------------------------------------------------------\u001b[0m",
      "\u001b[0;31mNameError\u001b[0m                                 Traceback (most recent call last)",
      "\u001b[0;32m<ipython-input-4-ab498e615608>\u001b[0m in \u001b[0;36m<module>\u001b[0;34m\u001b[0m\n\u001b[0;32m----> 1\u001b[0;31m \u001b[0mu\u001b[0m \u001b[0;34m=\u001b[0m \u001b[0mmda\u001b[0m\u001b[0;34m.\u001b[0m\u001b[0mUniverse\u001b[0m\u001b[0;34m(\u001b[0m\u001b[0mtraj\u001b[0m\u001b[0;34m)\u001b[0m\u001b[0;34m\u001b[0m\u001b[0;34m\u001b[0m\u001b[0m\n\u001b[0m\u001b[1;32m      2\u001b[0m \u001b[0mMSD\u001b[0m \u001b[0;34m=\u001b[0m \u001b[0mmsd\u001b[0m\u001b[0;34m.\u001b[0m\u001b[0mEinsteinMSD\u001b[0m\u001b[0;34m(\u001b[0m\u001b[0mu\u001b[0m\u001b[0;34m,\u001b[0m \u001b[0mselect\u001b[0m\u001b[0;34m=\u001b[0m\u001b[0;34m'all'\u001b[0m\u001b[0;34m,\u001b[0m \u001b[0mmsd_type\u001b[0m\u001b[0;34m=\u001b[0m\u001b[0;34m'xyz'\u001b[0m\u001b[0;34m,\u001b[0m \u001b[0mfft\u001b[0m\u001b[0;34m=\u001b[0m\u001b[0;32mFalse\u001b[0m\u001b[0;34m)\u001b[0m\u001b[0;34m\u001b[0m\u001b[0;34m\u001b[0m\u001b[0m\n\u001b[1;32m      3\u001b[0m \u001b[0mMSD\u001b[0m\u001b[0;34m.\u001b[0m\u001b[0mrun\u001b[0m\u001b[0;34m(\u001b[0m\u001b[0;34m)\u001b[0m\u001b[0;34m\u001b[0m\u001b[0;34m\u001b[0m\u001b[0m\n",
      "\u001b[0;31mNameError\u001b[0m: name 'traj' is not defined"
     ]
    }
   ],
   "source": [
    "u = mda.Universe(traj)\n",
    "MSD = msd.EinsteinMSD(u, select='all', msd_type='xyz', fft=False)\n",
    "MSD.run()"
   ]
  },
  {
   "cell_type": "code",
   "execution_count": 21,
   "metadata": {},
   "outputs": [],
   "source": [
    "msd =  MSD.results.timeseries"
   ]
  },
  {
   "cell_type": "code",
   "execution_count": 22,
   "metadata": {},
   "outputs": [
    {
     "data": {
      "image/png": "[encoded data removed]",
      "text/plain": [
       "<Figure size 432x288 with 1 Axes>"
      ]
     },
     "metadata": {
      "needs_background": "light"
     },
     "output_type": "display_data"
    }
   ],
   "source": [
    "import matplotlib.pyplot as plt\n",
    "\n",
    "nframes = MSD.n_frames\n",
    "timestep = 0.002 # this needs to be the actual time between frames\n",
    "lagtimes = np.arange(nframes)*timestep # make the lag-time axis\n",
    "\n",
    "fig = plt.figure()\n",
    "ax = plt.axes()\n",
    "# plot the actual MSD\n",
    "ax.plot(lagtimes, msd)\n",
    "\n",
    "plt.show()"
   ]
  },
  {
   "cell_type": "code",
   "execution_count": null,
   "metadata": {},
   "outputs": [],
   "source": []
  }
 ],
 "metadata": {
  "kernelspec": {
   "display_name": "Python 3",
   "language": "python",
   "name": "python3"
  },
  "language_info": {
   "codemirror_mode": {
    "name": "ipython",
    "version": 3
   },
   "file_extension": ".py",
   "mimetype": "text/x-python",
   "name": "python",
   "nbconvert_exporter": "python",
   "pygments_lexer": "ipython3",
   "version": "3.8.6"
  }
 },
 "nbformat": 4,
 "nbformat_minor": 4
}
